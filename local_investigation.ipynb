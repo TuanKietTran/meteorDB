{
 "cells": [
  {
   "cell_type": "code",
   "execution_count": 16,
   "metadata": {},
   "outputs": [],
   "source": [
    "import pyart\n",
    "import numpy"
   ]
  },
  {
   "cell_type": "code",
   "execution_count": 4,
   "metadata": {},
   "outputs": [
    {
     "name": "stderr",
     "output_type": "stream",
     "text": [
      "/Users/ducth/.pyenv/versions/3.11.1/envs/cangio_weather_nowcasting/lib/python3.11/site-packages/pyart/io/sigmet.py:146: UserWarning: Unknown type: 17, returning raw data\n",
      "  sigmet_data, sigmet_metadata = sigmetfile.read_data(full_xhdr=full_xhdr)\n"
     ]
    }
   ],
   "source": [
    "from pathlib import Path\n",
    "data_folder = Path.cwd() / \"data/UF\"\n",
    "\n",
    "test_data_file = pyart.io.read_sigmet(data_folder / \"NHB190513012007.RAW23DN\")"
   ]
  },
  {
   "cell_type": "code",
   "execution_count": 20,
   "metadata": {},
   "outputs": [
    {
     "data": {
      "text/plain": [
       "{'total_power': {'units': 'dBZ',\n",
       "  'standard_name': 'equivalent_reflectivity_factor',\n",
       "  'long_name': 'Total power',\n",
       "  'coordinates': 'elevation azimuth range',\n",
       "  'data': masked_array(\n",
       "    data=[[37.0, 27.5, 37.5, ..., --, --, --],\n",
       "          [50.0, 41.0, 31.5, ..., --, --, --],\n",
       "          [45.0, 41.0, 29.5, ..., 0.0, 4.0, 7.0],\n",
       "          ...,\n",
       "          [35.0, 32.0, 21.0, ..., 3.0, --, --],\n",
       "          [33.5, 27.5, 20.0, ..., --, --, --],\n",
       "          [41.0, 31.5, 27.0, ..., --, --, --]],\n",
       "    mask=[[False, False, False, ...,  True,  True,  True],\n",
       "          [False, False, False, ...,  True,  True,  True],\n",
       "          [False, False, False, ..., False, False, False],\n",
       "          ...,\n",
       "          [False, False, False, ..., False,  True,  True],\n",
       "          [False, False, False, ...,  True,  True,  True],\n",
       "          [False, False, False, ...,  True,  True,  True]],\n",
       "    fill_value=1e+20,\n",
       "    dtype=float32),\n",
       "  '_FillValue': -9999.0},\n",
       " 'reflectivity': {'units': 'dBZ',\n",
       "  'standard_name': 'equivalent_reflectivity_factor',\n",
       "  'long_name': 'Reflectivity',\n",
       "  'coordinates': 'elevation azimuth range',\n",
       "  'data': masked_array(\n",
       "    data=[[--, 21.5, 22.5, ..., --, --, --],\n",
       "          [--, --, --, ..., --, --, --],\n",
       "          [--, --, 22.0, ..., --, --, --],\n",
       "          ...,\n",
       "          [--, 21.5, 14.5, ..., --, --, --],\n",
       "          [--, --, 10.0, ..., --, --, --],\n",
       "          [24.0, 17.5, --, ..., --, --, --]],\n",
       "    mask=[[ True, False, False, ...,  True,  True,  True],\n",
       "          [ True,  True,  True, ...,  True,  True,  True],\n",
       "          [ True,  True, False, ...,  True,  True,  True],\n",
       "          ...,\n",
       "          [ True, False, False, ...,  True,  True,  True],\n",
       "          [ True,  True, False, ...,  True,  True,  True],\n",
       "          [False, False,  True, ...,  True,  True,  True]],\n",
       "    fill_value=1e+20,\n",
       "    dtype=float32),\n",
       "  '_FillValue': -9999.0},\n",
       " 'velocity': {'units': 'meters_per_second',\n",
       "  'standard_name': 'radial_velocity_of_scatterers_away_from_instrument',\n",
       "  'long_name': 'Mean dopper velocity',\n",
       "  'coordinates': 'elevation azimuth range',\n",
       "  'data': masked_array(\n",
       "    data=[[--, -1.714566946029663, -3.3499999046325684, ..., --, --, --],\n",
       "          [--, --, --, ..., --, --, --],\n",
       "          [--, --, -0.15826772153377533, ..., --, --, --],\n",
       "          ...,\n",
       "          [--, 2.3740158081054688, 2.3740158081054688, ..., --, --, --],\n",
       "          [--, --, 2.7696850299835205, ..., --, --, --],\n",
       "          [2.4003937244415283, -3.1653544902801514, --, ..., --, --, --]],\n",
       "    mask=[[ True, False, False, ...,  True,  True,  True],\n",
       "          [ True,  True,  True, ...,  True,  True,  True],\n",
       "          [ True,  True, False, ...,  True,  True,  True],\n",
       "          ...,\n",
       "          [ True, False, False, ...,  True,  True,  True],\n",
       "          [ True,  True, False, ...,  True,  True,  True],\n",
       "          [False, False,  True, ...,  True,  True,  True]],\n",
       "    fill_value=1e+20,\n",
       "    dtype=float32),\n",
       "  '_FillValue': -9999.0},\n",
       " 'spectrum_width': {'units': 'meters_per_second',\n",
       "  'standard_name': 'doppler_spectrum_width',\n",
       "  'long_name': 'Doppler spectrum width',\n",
       "  'coordinates': 'elevation azimuth range',\n",
       "  'data': masked_array(\n",
       "    data=[[0.41874998807907104, 0.680468738079071, 0.4056640565395355, ...,\n",
       "           --, --, --],\n",
       "          [--, 0.22246094048023224, 0.9029296636581421, ..., --, --, --],\n",
       "          [--, 0.5234375, 0.8505859375, ..., --, --, --],\n",
       "          ...,\n",
       "          [0.4056640565395355, 0.30097657442092896, 0.15703125298023224,\n",
       "           ..., --, --, --],\n",
       "          [--, --, 0.35332030057907104, ..., --, --, --],\n",
       "          [0.11777343600988388, 0.562695324420929, --, ..., --, --, --]],\n",
       "    mask=[[False, False, False, ...,  True,  True,  True],\n",
       "          [ True, False, False, ...,  True,  True,  True],\n",
       "          [ True, False, False, ...,  True,  True,  True],\n",
       "          ...,\n",
       "          [False, False, False, ...,  True,  True,  True],\n",
       "          [ True,  True, False, ...,  True,  True,  True],\n",
       "          [False, False,  True, ...,  True,  True,  True]],\n",
       "    fill_value=1e+20,\n",
       "    dtype=float32),\n",
       "  '_FillValue': -9999.0},\n",
       " 'corrected_velocity': {'units': 'meters_per_second',\n",
       "  'standard_name': 'corrected_radial_velocity_of_scatterers_away_from_instrument',\n",
       "  'long_name': 'Corrected mean doppler velocity',\n",
       "  'coordinates': 'elevation azimuth range',\n",
       "  'data': masked_array(\n",
       "    data=[[ 3.2000e+04,  1.2200e+02,  0.0000e+00, ...,  1.0000e+00,\n",
       "            1.0000e+00,  1.0000e+00],\n",
       "          [ 0.0000e+00,  0.0000e+00, -3.1362e+04, ...,  1.0000e+00,\n",
       "            1.0000e+00,  1.0000e+00],\n",
       "          [ 0.0000e+00, -3.1616e+04,  0.0000e+00, ...,  1.0000e+00,\n",
       "            1.0000e+00,  1.0000e+00],\n",
       "          ...,\n",
       "          [-3.1744e+04, -3.1100e+04,  0.0000e+00, ...,  1.0000e+00,\n",
       "            1.0000e+00,  1.0000e+00],\n",
       "          [ 0.0000e+00, -3.1611e+04, -3.1875e+04, ...,  1.0000e+00,\n",
       "            1.0000e+00,  1.0000e+00],\n",
       "          [ 3.1620e+04, -3.1488e+04,  3.1870e+04, ...,  1.0000e+00,\n",
       "            1.0000e+00,  1.0000e+00]],\n",
       "    mask=False,\n",
       "    fill_value=1e+20,\n",
       "    dtype=float32),\n",
       "  '_FillValue': -9999.0}}"
      ]
     },
     "execution_count": 20,
     "metadata": {},
     "output_type": "execute_result"
    }
   ],
   "source": [
    "test_data_file.fields"
   ]
  },
  {
   "cell_type": "code",
   "execution_count": 17,
   "metadata": {},
   "outputs": [
    {
     "data": {
      "text/plain": [
       "array([  1.,   2.,   3.,   4.,   5.,   6.,   7.,   8.,   9.,  10.,  11.,\n",
       "        12.,  13.,  14.,  15.,  16.,  17.,  18.,  19.,  20.,  26.,  27.,\n",
       "        28.,  29.,  30.,  31.,  32.,  33.,  34.,  35.,  36.,  37.,  38.,\n",
       "        39.,  40.,  44.,  45.,  46.,  47.,  48.,  49.,  50.,  51.,  52.,\n",
       "        53.,  54.,  55.,  56.,  57.,  58.,  59.,  60.,  61.,  62.,  63.,\n",
       "        64.,  65.,  66.,  67.,  68.,  69.,  70.,  71.,  72.,  73.,  74.,\n",
       "        75.,  76.,  77.,  78.,  79.,  80.,  81.,  82.,  83.,  87.,  88.,\n",
       "        89.,  90.,  91.,  92.,  93.,  94.,  95.,  96.,  97.,  98.,  99.,\n",
       "       100., 101., 102., 103., 104., 105., 106., 107., 108., 109., 110.,\n",
       "       111., 112., 113., 114., 115., 116., 117., 118., 119., 120., 121.,\n",
       "       122., 123., 124., 125., 126.])"
      ]
     },
     "execution_count": 17,
     "metadata": {},
     "output_type": "execute_result"
    }
   ],
   "source": [
    "numpy.unique(test_data_file.time['data'])"
   ]
  },
  {
   "cell_type": "code",
   "execution_count": 7,
   "metadata": {},
   "outputs": [
    {
     "ename": "TypeError",
     "evalue": "RadarDisplay.plot() missing 1 required positional argument: 'field'",
     "output_type": "error",
     "traceback": [
      "\u001b[0;31m---------------------------------------------------------------------------\u001b[0m",
      "\u001b[0;31mTypeError\u001b[0m                                 Traceback (most recent call last)",
      "\u001b[1;32m/Users/ducth/PycharmProjects/cangio_weather_nowcasting/local_investigation.ipynb Cell 3\u001b[0m line \u001b[0;36m1\n\u001b[0;32m----> <a href='vscode-notebook-cell:/Users/ducth/PycharmProjects/cangio_weather_nowcasting/local_investigation.ipynb#W2sZmlsZQ%3D%3D?line=0'>1</a>\u001b[0m pyart\u001b[39m.\u001b[39;49mgraph\u001b[39m.\u001b[39;49mRadarDisplay(test_data_file)\u001b[39m.\u001b[39;49mplot()\n",
      "\u001b[0;31mTypeError\u001b[0m: RadarDisplay.plot() missing 1 required positional argument: 'field'"
     ]
    }
   ],
   "source": [
    "pyart.graph.RadarDisplay(test_data_file).plot()"
   ]
  },
  {
   "cell_type": "code",
   "execution_count": null,
   "metadata": {},
   "outputs": [],
   "source": []
  }
 ],
 "metadata": {
  "kernelspec": {
   "display_name": "cangio_weather_nowcasting",
   "language": "python",
   "name": "python3"
  },
  "language_info": {
   "codemirror_mode": {
    "name": "ipython",
    "version": 3
   },
   "file_extension": ".py",
   "mimetype": "text/x-python",
   "name": "python",
   "nbconvert_exporter": "python",
   "pygments_lexer": "ipython3",
   "version": "3.11.1"
  }
 },
 "nbformat": 4,
 "nbformat_minor": 2
}
